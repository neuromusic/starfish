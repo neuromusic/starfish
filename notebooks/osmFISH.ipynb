{
 "cells": [
  {
   "cell_type": "code",
   "execution_count": null,
   "metadata": {},
   "outputs": [],
   "source": [
    "import os\n",
    "import pickle\n",
    "from glob import glob\n",
    "import requests\n",
    "from tempfile import TemporaryDirectory\n",
    "\n",
    "import matplotlib.pyplot as plt\n",
    "import numpy as np\n",
    "from showit import image\n",
    "from skimage import img_as_float32\n",
    "import seaborn as sns\n",
    "from skimage.feature import peak_local_max\n",
    "from sympy import Point, Line, Segment\n",
    "import pandas as pd\n",
    "\n",
    "from starfish import ImageStack\n",
    "from starfish.types import Indices\n",
    "from starfish.image import Filter\n",
    "from starfish.types._spot_attributes import SpotAttributes\n",
    "from starfish.spots import SpotFinder\n",
    "\n",
    "%matplotlib inline\n",
    "%load_ext autoreload\n",
    "%autoreload 2\n",
    "\n",
    "aws_data_path = 's3://czi.starfish.data.public/browse/raw/20180912/osmFISH/'\n",
    "_im_path = os.path.join(aws_data_path, 'images')\n",
    "_res_path = os.path.join(aws_data_path, 'results')\n",
    "fov_num = 33\n",
    "im_path = 'images'\n",
    "res_path = 'results'"
   ]
  },
  {
   "cell_type": "markdown",
   "metadata": {},
   "source": [
    "## Load pysmFISH results"
   ]
  },
  {
   "cell_type": "code",
   "execution_count": null,
   "metadata": {},
   "outputs": [],
   "source": [
    "!aws s3 cp $_im_path/ ./images --exclude \"*\" --include \"*$fov_num*\" --recursive 2>&1 > /dev/null"
   ]
  },
  {
   "cell_type": "code",
   "execution_count": null,
   "metadata": {},
   "outputs": [],
   "source": [
    "!aws s3 cp $_res_path/ ./results --exclude \"*\" --include \"*$fov_num*\" --recursive 2>&1 > /dev/null"
   ]
  },
  {
   "cell_type": "code",
   "execution_count": null,
   "metadata": {},
   "outputs": [],
   "source": [
    "def load_image_stack(fov_num):\n",
    "    ims = glob(os.path.join(im_path, '*.npy'))\n",
    "    im = np.load([i for i in ims if str(fov_num) in i][0])\n",
    "    stack = np.zeros((1, 1, 45, 2048, 2048))\n",
    "    stack[0,0,:,:,:] = img_as_float32(im)\n",
    "    stack = img_as_float32(stack)\n",
    "\n",
    "    return ImageStack.from_numpy_array(stack)\n",
    "\n",
    "def load_results(fov_num):\n",
    "    pkls = glob(os.path.join(res_path, '*.pkl'))\n",
    "    pkl = [p for p in pkls if str(fov_num) in p][0]\n",
    "    with open(pkl, 'rb') as f:\n",
    "        res = pickle.load(f)\n",
    "\n",
    "    for k, v in res.items():\n",
    "        if type(v) is np.float64 or type(v) is np.int64 or type(v) is np.int:\n",
    "            print(k, v)\n",
    "\n",
    "    return res\n",
    "\n",
    "def selected_peaks(res, redo_flag = False):\n",
    "\n",
    "    if not redo_flag:\n",
    "        sp = pd.DataFrame({'y':res['selected_peaks'][:,0],\n",
    "                           'x':res['selected_peaks'][:,1],\n",
    "                           'selected_peaks_int': res['selected_peaks_int']\n",
    "                          })\n",
    "    else:\n",
    "        p = peaks(res)\n",
    "        coords = p[p.thr_array==res['selected_thr']].peaks_coords\n",
    "        coords = coords.values[0]\n",
    "        sp = pd.DataFrame({'x':coords[:,0], 'y':coords[:,1]})\n",
    "\n",
    "    return sp\n",
    "\n",
    "def peaks(res):\n",
    "    p = pd.DataFrame({'thr_array':res['thr_array'],\n",
    "              'peaks_coords':res['peaks_coords'],\n",
    "              'total_peaks':res['total_peaks']\n",
    "             })\n",
    "    return p\n",
    "\n",
    "res = load_results(fov_num)\n",
    "sp = selected_peaks(res, redo_flag=False)\n",
    "p = peaks(res)"
   ]
  },
  {
   "cell_type": "code",
   "execution_count": null,
   "metadata": {},
   "outputs": [],
   "source": [
    "psymFISH_thresh = res['selected_thr']"
   ]
  },
  {
   "cell_type": "code",
   "execution_count": null,
   "metadata": {},
   "outputs": [],
   "source": [
    "stack = load_image_stack(fov_num)"
   ]
  },
  {
   "cell_type": "code",
   "execution_count": null,
   "metadata": {},
   "outputs": [],
   "source": [
    "stack.show_stack({Indices.ROUND: 0}, rescale=True)"
   ]
  },
  {
   "cell_type": "markdown",
   "metadata": {},
   "source": [
    "# Re-produce pysmFISH Results"
   ]
  },
  {
   "cell_type": "markdown",
   "metadata": {},
   "source": [
    "## Filtering code"
   ]
  },
  {
   "cell_type": "code",
   "execution_count": null,
   "metadata": {},
   "outputs": [],
   "source": [
    "from starfish.image import Filter\n",
    "\n",
    "ghp = Filter.GaussianHighPass(sigma=(1,8,8), is_volume=True)\n",
    "lp = Filter.Laplace(sigma=(0.2, 0.5, 0.5), is_volume=True)\n",
    "\n",
    "stack_hp = ghp.run(stack, in_place=False)\n",
    "stack_hp_lap = lp.run(stack_hp, in_place=False)"
   ]
  },
  {
   "cell_type": "code",
   "execution_count": null,
   "metadata": {},
   "outputs": [],
   "source": [
    "mp = stack_hp_lap.max_proj(Indices.Z)[0,0,:,:]\n",
    "\n",
    "plt.figure(figsize=(10,10))\n",
    "plt.imshow(mp, cmap = 'gray', vmin=np.percentile(mp, 98), vmax=np.percentile(mp, 99.9))\n",
    "plt.title('Filtered max projection')\n",
    "plt.axis('off');"
   ]
  },
  {
   "cell_type": "markdown",
   "metadata": {},
   "source": [
    "### Spot Finding"
   ]
  },
  {
   "cell_type": "code",
   "execution_count": null,
   "metadata": {},
   "outputs": [],
   "source": [
    "min_distance = 6\n",
    "stringency = 0\n",
    "min_obj_area = 6\n",
    "max_obj_area = 600\n",
    "\n",
    "# TODO this will go away once ImageStack.max_proj returns an ImageStack\n",
    "stack = ImageStack.from_numpy_array(np.expand_dims(np.expand_dims(np.expand_dims(mp, 0), 0), 0))\n",
    "\n",
    "lmp = SpotFinder.LocalMaxPeakFinder(\n",
    "    min_distance=min_distance,\n",
    "    stringency=stringency,\n",
    "    min_obj_area=min_obj_area,\n",
    "    max_obj_area=max_obj_area\n",
    ")\n",
    "lmp_res = lmp.run(stack)"
   ]
  },
  {
   "cell_type": "markdown",
   "metadata": {},
   "source": [
    "### Spot finding QA"
   ]
  },
  {
   "cell_type": "code",
   "execution_count": null,
   "metadata": {},
   "outputs": [],
   "source": [
    "lmp_res"
   ]
  },
  {
   "cell_type": "code",
   "execution_count": null,
   "metadata": {},
   "outputs": [],
   "source": [
    "plt.hist(lmp_res.data[:,0,0], bins=20)\n",
    "sns.despine(offset=2)\n",
    "plt.yscale('log')\n",
    "plt.xlabel('Intensity')\n",
    "plt.ylabel('Number of spots');"
   ]
  },
  {
   "cell_type": "code",
   "execution_count": null,
   "metadata": {},
   "outputs": [],
   "source": [
    "mp = stack_hp_lap.max_proj(Indices.Z)[0,0,:,:]\n",
    "\n",
    "plt.figure(figsize=(10,10))\n",
    "plt.imshow(mp, cmap = 'gray', vmin=np.percentile(mp, 98), vmax=np.percentile(mp, 99.9))\n",
    "plt.plot(lmp_res.x, lmp_res.y, 'or')\n",
    "plt.axis('off');"
   ]
  },
  {
   "cell_type": "markdown",
   "metadata": {},
   "source": [
    "## Compare to pySMFISH peak calls"
   ]
  },
  {
   "cell_type": "code",
   "execution_count": null,
   "metadata": {},
   "outputs": [],
   "source": [
    "num_spots_simone = len(sp)\n",
    "num_spots_starfish = len(lmp_res)\n",
    "\n",
    "plt.figure(figsize=(10,10))\n",
    "plt.plot(sp.x, -sp.y, 'o')\n",
    "sns.despine(offset=20)\n",
    "plt.plot(lmp_res.x, -lmp_res.y, 'x')\n",
    "\n",
    "plt.legend(['Benchmark: {} spots'.format(num_spots_simone),\n",
    "            'Starfish: {} spots'.format(num_spots_starfish)])\n",
    "plt.title('osmFISH spot calls');\n",
    "\n",
    "print(\"Starfish finds {} fewer spots\".format(num_spots_simone-num_spots_starfish))"
   ]
  }
 ],
 "metadata": {
  "kernelspec": {
   "display_name": "starfish",
   "language": "python",
   "name": "starfish"
  },
  "language_info": {
   "codemirror_mode": {
    "name": "ipython",
    "version": 3
   },
   "file_extension": ".py",
   "mimetype": "text/x-python",
   "name": "python",
   "nbconvert_exporter": "python",
   "pygments_lexer": "ipython3",
   "version": "3.6.5"
  }
 },
 "nbformat": 4,
 "nbformat_minor": 2
}