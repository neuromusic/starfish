{
 "cells": [
  {
   "cell_type": "code",
   "execution_count": 1,
   "metadata": {},
   "outputs": [],
   "source": [
    "import os\n",
    "import pickle\n",
    "from glob import glob\n",
    "# import requests\n",
    "# from tempfile import TemporaryDirectory\n",
    "\n",
    "import matplotlib.pyplot as plt\n",
    "import numpy as np\n",
    "# from showit import image\n",
    "from skimage import img_as_float32\n",
    "# import seaborn as sns\n",
    "# from skimage.feature import peak_local_max\n",
    "# from sympy import Point, Line, Segment\n",
    "import pandas as pd\n",
    "\n",
    "from starfish import ImageStack\n",
    "from starfish.types import Indices\n",
    "from starfish.image import Filter\n",
    "# from starfish.types._spot_attributes import SpotAttributes\n",
    "from starfish.spots import SpotFinder\n",
    "import starfish.data\n",
    "\n",
    "%matplotlib inline\n",
    "%load_ext autoreload\n",
    "%autoreload 2"
   ]
  },
  {
   "cell_type": "code",
   "execution_count": 2,
   "metadata": {},
   "outputs": [],
   "source": [
    "import starfish.data"
   ]
  },
  {
   "cell_type": "code",
   "execution_count": 3,
   "metadata": {},
   "outputs": [],
   "source": [
    "experiment = starfish.data.osmFISH(use_test_data=True)\n",
    "stack = experiment['fov_000']['primary']"
   ]
  },
  {
   "cell_type": "markdown",
   "metadata": {},
   "source": [
    "## Load pysmFISH results"
   ]
  },
  {
   "cell_type": "code",
   "execution_count": 5,
   "metadata": {},
   "outputs": [],
   "source": [
    "aws_data_path = 's3://czi.starfish.data.public/browse/raw/20180912/osmFISH/'\n",
    "_im_path = os.path.join(aws_data_path, 'images')\n",
    "_res_path = os.path.join(aws_data_path, 'results')\n",
    "fov_num = 33\n",
    "im_path = 'images'\n",
    "res_path = 'results'"
   ]
  },
  {
   "cell_type": "code",
   "execution_count": 6,
   "metadata": {},
   "outputs": [],
   "source": [
    "# !aws s3 cp $_im_path/ ./images --exclude \"*\" --include \"*${fov_num}*\" --recursive 2>&1 > /dev/null"
   ]
  },
  {
   "cell_type": "code",
   "execution_count": 7,
   "metadata": {},
   "outputs": [],
   "source": [
    "!aws s3 cp $_res_path/ ./results --exclude \"*\" --include \"*${fov_num}*\" --recursive 2>&1 > /dev/null"
   ]
  },
  {
   "cell_type": "code",
   "execution_count": 8,
   "metadata": {},
   "outputs": [
    {
     "name": "stdout",
     "output_type": "stream",
     "text": [
      "selected_thr 0.009161814025600973\n",
      "calculated_thr 0.009161814025600973\n",
      "thr_idx 2\n",
      "stringency 0\n"
     ]
    }
   ],
   "source": [
    "def load_results(fov_num):\n",
    "    pkls = glob(os.path.join(res_path, '*.pkl'))\n",
    "    pkl = [p for p in pkls if str(fov_num) in p][0]\n",
    "    with open(pkl, 'rb') as f:\n",
    "        res = pickle.load(f)\n",
    "\n",
    "    for k, v in res.items():\n",
    "        if type(v) is np.float64 or type(v) is np.int64 or type(v) is np.int:\n",
    "            print(k, v)\n",
    "\n",
    "    return res\n",
    "\n",
    "def selected_peaks(res, redo_flag = False):\n",
    "\n",
    "    if not redo_flag:\n",
    "        sp = pd.DataFrame({'y':res['selected_peaks'][:,0],\n",
    "                           'x':res['selected_peaks'][:,1],\n",
    "                           'selected_peaks_int': res['selected_peaks_int']\n",
    "                          })\n",
    "    else:\n",
    "        p = peaks(res)\n",
    "        coords = p[p.thr_array==res['selected_thr']].peaks_coords\n",
    "        coords = coords.values[0]\n",
    "        sp = pd.DataFrame({'x':coords[:,0], 'y':coords[:,1]})\n",
    "\n",
    "    return sp\n",
    "\n",
    "def peaks(res):\n",
    "    p = pd.DataFrame({'thr_array':res['thr_array'],\n",
    "              'peaks_coords':res['peaks_coords'],\n",
    "              'total_peaks':res['total_peaks']\n",
    "             })\n",
    "    return p\n",
    "\n",
    "res = load_results(fov_num)\n",
    "sp = selected_peaks(res, redo_flag=False)\n",
    "p = peaks(res)"
   ]
  },
  {
   "cell_type": "code",
   "execution_count": 9,
   "metadata": {},
   "outputs": [],
   "source": [
    "psymFISH_thresh = res['selected_thr']"
   ]
  },
  {
   "cell_type": "code",
   "execution_count": 10,
   "metadata": {},
   "outputs": [],
   "source": [
    "# def load_image_stack(fov_num):\n",
    "#     ims = glob(os.path.join(im_path, '*.npy'))\n",
    "#     im = np.load([i for i in ims if str(fov_num) in i][0])\n",
    "#     stack = np.zeros((1, 1, 45, 2048, 2048))\n",
    "#     stack[0,0,:,:,:] = img_as_float32(im)\n",
    "#     stack = img_as_float32(stack)\n",
    "\n",
    "#     return ImageStack.from_numpy_array(stack)\n",
    "\n",
    "# stack = load_image_stack(fov_num)"
   ]
  },
  {
   "cell_type": "markdown",
   "metadata": {},
   "source": [
    "# Re-produce pysmFISH Results"
   ]
  },
  {
   "cell_type": "markdown",
   "metadata": {},
   "source": [
    "## Filtering code"
   ]
  },
  {
   "cell_type": "code",
   "execution_count": 11,
   "metadata": {},
   "outputs": [
    {
     "name": "stderr",
     "output_type": "stream",
     "text": [
      "1it [00:00, 20.38it/s]\n",
      "1it [00:00, 24.60it/s]\n"
     ]
    }
   ],
   "source": [
    "ghp = Filter.GaussianHighPass(sigma=(1,8,8), is_volume=True)\n",
    "lp = Filter.Laplace(sigma=(0.2, 0.5, 0.5), is_volume=True)\n",
    "\n",
    "stack_hp = ghp.run(stack, in_place=False)\n",
    "stack_hp_lap = lp.run(stack_hp, in_place=False)"
   ]
  },
  {
   "cell_type": "code",
   "execution_count": 12,
   "metadata": {},
   "outputs": [
    {
     "name": "stderr",
     "output_type": "stream",
     "text": [
      "100%|██████████| 1/1 [00:00<00:00, 94.14it/s]\n"
     ]
    }
   ],
   "source": [
    "# mp = stack_hp_lap.max_proj(Indices.Z)[0,0,:,:]\n",
    "mp = stack_hp_lap.max_proj(Indices.Z)"
   ]
  },
  {
   "cell_type": "code",
   "execution_count": 13,
   "metadata": {},
   "outputs": [
    {
     "name": "stderr",
     "output_type": "stream",
     "text": [
      "100%|██████████| 1/1 [00:00<00:00, 219.87it/s]\n"
     ]
    }
   ],
   "source": [
    "mp = stack_hp_lap.max_proj(Indices.Z)\n",
    "for_vis = mp.xarray.sel({Indices.CH: 0}).squeeze()"
   ]
  },
  {
   "cell_type": "code",
   "execution_count": 14,
   "metadata": {},
   "outputs": [
    {
     "data": {
      "image/png": "[encoded data removed]",
      "text/plain": [
       "<Figure size 720x720 with 1 Axes>"
      ]
     },
     "metadata": {
      "needs_background": "light"
     },
     "output_type": "display_data"
    }
   ],
   "source": [
    "plt.figure(figsize=(10,10))\n",
    "plt.imshow(for_vis, cmap = 'gray', vmin=np.percentile(for_vis, 98), vmax=np.percentile(for_vis, 99.9))\n",
    "plt.title('Filtered max projection')\n",
    "plt.axis('off');"
   ]
  },
  {
   "cell_type": "markdown",
   "metadata": {},
   "source": [
    "### Spot Finding"
   ]
  },
  {
   "cell_type": "code",
   "execution_count": 16,
   "metadata": {},
   "outputs": [
    {
     "name": "stderr",
     "output_type": "stream",
     "text": [
      "  0%|          | 0/100 [00:00<?, ?it/s]"
     ]
    },
    {
     "name": "stdout",
     "output_type": "stream",
     "text": [
      "Determining optimal threshold ...\n"
     ]
    },
    {
     "name": "stderr",
     "output_type": "stream",
     "text": [
      " 57%|█████▋    | 57/100 [00:25<00:19,  2.26it/s]"
     ]
    },
    {
     "name": "stdout",
     "output_type": "stream",
     "text": [
      "Stopping early at threshold=0.07317454672672533. Number of spots fell below: 3\n",
      "[] [{<Indices.ROUND: 'r'>: 0, <Indices.CH: 'c'>: 0}]\n",
      "0\n",
      "1\n"
     ]
    },
    {
     "ename": "IndexError",
     "evalue": "index 1 is out of bounds for axis 0 with size 1",
     "output_type": "error",
     "traceback": [
      "\u001b[0;31m---------------------------------------------------------------------------\u001b[0m",
      "\u001b[0;31mRemoteTraceback\u001b[0m                           Traceback (most recent call last)",
      "\u001b[0;31mRemoteTraceback\u001b[0m: \n\"\"\"\nTraceback (most recent call last):\n  File \"/usr/local/Cellar/python/3.6.5_1/Frameworks/Python.framework/Versions/3.6/lib/python3.6/multiprocessing/pool.py\", line 119, in worker\n    result = (True, func(*args, **kwds))\n  File \"/Users/ambrosecarr/projects/spacetx/starfish/starfish/imagestack/imagestack.py\", line 844, in _multiprocessing_workflow\n    return worker_callable(sliced, *indices_and_slice_list)\n  File \"/Users/ambrosecarr/projects/spacetx/starfish/starfish/util/_functools.py\", line 39, in __call__\n    return self.func(*called_args, **kwargs)\n  File \"/Users/ambrosecarr/projects/spacetx/starfish/starfish/spots/_detector/local_max_peak_finder.py\", line 232, in image_to_spots\n    masked_image[spot_prop.coords[:, 0], spot_prop.coords[:, 1]] = 0\nIndexError: index 1 is out of bounds for axis 0 with size 1\n\"\"\"",
      "\nThe above exception was the direct cause of the following exception:\n",
      "\u001b[0;31mIndexError\u001b[0m                                Traceback (most recent call last)",
      "\u001b[0;32m<ipython-input-16-6ab3707e6d0e>\u001b[0m in \u001b[0;36m<module>\u001b[0;34m\u001b[0m\n\u001b[1;32m     13\u001b[0m     \u001b[0mmax_obj_area\u001b[0m\u001b[0;34m=\u001b[0m\u001b[0mmax_obj_area\u001b[0m\u001b[0;34m\u001b[0m\u001b[0m\n\u001b[1;32m     14\u001b[0m )\n\u001b[0;32m---> 15\u001b[0;31m \u001b[0mlmp_res\u001b[0m \u001b[0;34m=\u001b[0m \u001b[0mlmp\u001b[0m\u001b[0;34m.\u001b[0m\u001b[0mrun\u001b[0m\u001b[0;34m(\u001b[0m\u001b[0mmp\u001b[0m\u001b[0;34m)\u001b[0m\u001b[0;34m\u001b[0m\u001b[0m\n\u001b[0m",
      "\u001b[0;32m~/projects/spacetx/starfish/starfish/spots/_detector/local_max_peak_finder.py\u001b[0m in \u001b[0;36mrun\u001b[0;34m(self, data_stack, blobs_image, reference_image_from_max_projection)\u001b[0m\n\u001b[1;32m    296\u001b[0m             \u001b[0mreference_image_from_max_projection\u001b[0m\u001b[0;34m=\u001b[0m\u001b[0mreference_image_from_max_projection\u001b[0m\u001b[0;34m,\u001b[0m\u001b[0;34m\u001b[0m\u001b[0m\n\u001b[1;32m    297\u001b[0m             \u001b[0mmeasurement_function\u001b[0m\u001b[0;34m=\u001b[0m\u001b[0mself\u001b[0m\u001b[0;34m.\u001b[0m\u001b[0mmeasurement_function\u001b[0m\u001b[0;34m,\u001b[0m\u001b[0;34m\u001b[0m\u001b[0m\n\u001b[0;32m--> 298\u001b[0;31m             radius_is_gyration=False)\n\u001b[0m\u001b[1;32m    299\u001b[0m \u001b[0;34m\u001b[0m\u001b[0m\n\u001b[1;32m    300\u001b[0m         \u001b[0;32mreturn\u001b[0m \u001b[0mintensity_table\u001b[0m\u001b[0;34m\u001b[0m\u001b[0m\n",
      "\u001b[0;32m~/projects/spacetx/starfish/starfish/spots/_detector/detect.py\u001b[0m in \u001b[0;36mdetect_spots\u001b[0;34m(data_stack, spot_finding_method, spot_finding_kwargs, reference_image, reference_image_from_max_projection, measurement_function, radius_is_gyration)\u001b[0m\n\u001b[1;32m    234\u001b[0m         spot_attributes_list = data_stack.transform(\n\u001b[1;32m    235\u001b[0m             \u001b[0mfunc\u001b[0m\u001b[0;34m=\u001b[0m\u001b[0mspot_finding_method\u001b[0m\u001b[0;34m,\u001b[0m\u001b[0;34m\u001b[0m\u001b[0m\n\u001b[0;32m--> 236\u001b[0;31m             \u001b[0mgroup_by\u001b[0m\u001b[0;34m=\u001b[0m\u001b[0mgroup_by\u001b[0m\u001b[0;34m\u001b[0m\u001b[0m\n\u001b[0m\u001b[1;32m    237\u001b[0m         )\n\u001b[1;32m    238\u001b[0m         \u001b[0mintensity_table\u001b[0m \u001b[0;34m=\u001b[0m \u001b[0mconcatenate_spot_attributes_to_intensities\u001b[0m\u001b[0;34m(\u001b[0m\u001b[0mspot_attributes_list\u001b[0m\u001b[0;34m)\u001b[0m\u001b[0;34m\u001b[0m\u001b[0m\n",
      "\u001b[0;32m~/projects/spacetx/starfish/starfish/imagestack/imagestack.py\u001b[0m in \u001b[0;36mtransform\u001b[0;34m(self, func, group_by, verbose, n_processes, **kwargs)\u001b[0m\n\u001b[1;32m    820\u001b[0m             \u001b[0mresults\u001b[0m \u001b[0;34m=\u001b[0m \u001b[0mpool\u001b[0m\u001b[0;34m.\u001b[0m\u001b[0mimap\u001b[0m\u001b[0;34m(\u001b[0m\u001b[0mapplyfunc\u001b[0m\u001b[0;34m,\u001b[0m \u001b[0mindices_and_slice_list\u001b[0m\u001b[0;34m)\u001b[0m\u001b[0;34m\u001b[0m\u001b[0m\n\u001b[1;32m    821\u001b[0m             \u001b[0;32mtry\u001b[0m\u001b[0;34m:\u001b[0m\u001b[0;34m\u001b[0m\u001b[0m\n\u001b[0;32m--> 822\u001b[0;31m                 \u001b[0;32mreturn\u001b[0m \u001b[0mlist\u001b[0m\u001b[0;34m(\u001b[0m\u001b[0mzip\u001b[0m\u001b[0;34m(\u001b[0m\u001b[0mresults\u001b[0m\u001b[0;34m,\u001b[0m \u001b[0mindices\u001b[0m\u001b[0;34m)\u001b[0m\u001b[0;34m)\u001b[0m\u001b[0;34m\u001b[0m\u001b[0m\n\u001b[0m\u001b[1;32m    823\u001b[0m             \u001b[0;32mexcept\u001b[0m \u001b[0mIndexError\u001b[0m\u001b[0;34m:\u001b[0m\u001b[0;34m\u001b[0m\u001b[0m\n\u001b[1;32m    824\u001b[0m                 \u001b[0mresults\u001b[0m \u001b[0;34m=\u001b[0m \u001b[0mlist\u001b[0m\u001b[0;34m(\u001b[0m\u001b[0mresults\u001b[0m\u001b[0;34m)\u001b[0m\u001b[0;34m\u001b[0m\u001b[0m\n",
      "\u001b[0;32m/usr/local/Cellar/python/3.6.5_1/Frameworks/Python.framework/Versions/3.6/lib/python3.6/multiprocessing/pool.py\u001b[0m in \u001b[0;36mnext\u001b[0;34m(self, timeout)\u001b[0m\n\u001b[1;32m    733\u001b[0m         \u001b[0;32mif\u001b[0m \u001b[0msuccess\u001b[0m\u001b[0;34m:\u001b[0m\u001b[0;34m\u001b[0m\u001b[0m\n\u001b[1;32m    734\u001b[0m             \u001b[0;32mreturn\u001b[0m \u001b[0mvalue\u001b[0m\u001b[0;34m\u001b[0m\u001b[0m\n\u001b[0;32m--> 735\u001b[0;31m         \u001b[0;32mraise\u001b[0m \u001b[0mvalue\u001b[0m\u001b[0;34m\u001b[0m\u001b[0m\n\u001b[0m\u001b[1;32m    736\u001b[0m \u001b[0;34m\u001b[0m\u001b[0m\n\u001b[1;32m    737\u001b[0m     \u001b[0m__next__\u001b[0m \u001b[0;34m=\u001b[0m \u001b[0mnext\u001b[0m                    \u001b[0;31m# XXX\u001b[0m\u001b[0;34m\u001b[0m\u001b[0m\n",
      "\u001b[0;31mIndexError\u001b[0m: index 1 is out of bounds for axis 0 with size 1"
     ]
    }
   ],
   "source": [
    "min_distance = 6\n",
    "stringency = 0\n",
    "min_obj_area = 6\n",
    "max_obj_area = 600\n",
    "\n",
    "# TODO this will go away once ImageStack.max_proj returns an ImageStack\n",
    "# stack = ImageStack.from_numpy_array(np.expand_dims(np.expand_dims(np.expand_dims(mp, 0), 0), 0))\n",
    "\n",
    "lmp = SpotFinder.LocalMaxPeakFinder(\n",
    "    min_distance=min_distance,\n",
    "    stringency=stringency,\n",
    "    min_obj_area=min_obj_area,\n",
    "    max_obj_area=max_obj_area\n",
    ")\n",
    "lmp_res = lmp.run(mp)"
   ]
  },
  {
   "cell_type": "markdown",
   "metadata": {},
   "source": [
    "### Spot finding QA"
   ]
  },
  {
   "cell_type": "code",
   "execution_count": null,
   "metadata": {},
   "outputs": [],
   "source": [
    "lmp_res"
   ]
  },
  {
   "cell_type": "code",
   "execution_count": null,
   "metadata": {},
   "outputs": [],
   "source": [
    "plt.hist(lmp_res.data[:,0,0], bins=20)\n",
    "sns.despine(offset=2)\n",
    "plt.yscale('log')\n",
    "plt.xlabel('Intensity')\n",
    "plt.ylabel('Number of spots');"
   ]
  },
  {
   "cell_type": "code",
   "execution_count": null,
   "metadata": {},
   "outputs": [],
   "source": [
    "# mp = stack_hp_lap.max_proj(Indices.Z)[0,0,:,:]\n",
    "mp = stack_hp_lap.max_proj(Indices.Z)\n",
    "mp = mp.sel({Indices.CH: 0, Indices.R: 0}).xarray.squeeze()\n",
    "\n",
    "plt.figure(figsize=(10,10))\n",
    "plt.imshow(mp, cmap = 'gray', vmin=np.percentile(mp, 98), vmax=np.percentile(mp, 99.9))\n",
    "plt.plot(lmp_res.x, lmp_res.y, 'or')\n",
    "plt.axis('off');"
   ]
  },
  {
   "cell_type": "markdown",
   "metadata": {},
   "source": [
    "## Compare to pySMFISH peak calls"
   ]
  },
  {
   "cell_type": "code",
   "execution_count": null,
   "metadata": {},
   "outputs": [],
   "source": [
    "num_spots_simone = len(sp)\n",
    "num_spots_starfish = len(lmp_res)\n",
    "\n",
    "plt.figure(figsize=(10,10))\n",
    "plt.plot(sp.x, -sp.y, 'o')\n",
    "sns.despine(offset=20)\n",
    "plt.plot(lmp_res.x, -lmp_res.y, 'x')\n",
    "\n",
    "plt.legend(['Benchmark: {} spots'.format(num_spots_simone),\n",
    "            'Starfish: {} spots'.format(num_spots_starfish)])\n",
    "plt.title('osmFISH spot calls');\n",
    "\n",
    "print(\"Starfish finds {} fewer spots\".format(num_spots_simone-num_spots_starfish))"
   ]
  }
 ],
 "metadata": {
  "kernelspec": {
   "display_name": "starfish",
   "language": "python",
   "name": "starfish"
  },
  "language_info": {
   "codemirror_mode": {
    "name": "ipython",
    "version": 3
   },
   "file_extension": ".py",
   "mimetype": "text/x-python",
   "name": "python",
   "nbconvert_exporter": "python",
   "pygments_lexer": "ipython3",
   "version": "3.6.5"
  }
 },
 "nbformat": 4,
 "nbformat_minor": 2
}
